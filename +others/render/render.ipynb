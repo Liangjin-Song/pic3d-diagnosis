{
 "cells": [
  {
   "cell_type": "code",
   "execution_count": null,
   "metadata": {},
   "outputs": [],
   "source": [
    "import os\n",
    "os.environ['ETS_TOOLKIT'] = 'qt4'\n",
    "os.environ['QT_API'] = 'pyqt5'\n",
    "import numpy as np\n",
    "from mayavi import mlab\n",
    "from tvtk.util.ctf import PiecewiseFunction\n",
    "\n",
    "mlab.init_notebook()\n",
    "\n",
    "indir = r'/media/liangjin/2FC57881244416D1/test/data'\n",
    "outidr = r'/media/liangjin/2FC57881244416D1/test/out'\n",
    "\n",
    "# scale\n",
    "nx, ny, nz = 800, 500, 200\n",
    "di = 20\n",
    "Lx, Ly, Lz = nx/di, ny/di, nz/di\n",
    "lx = np.linspace(0, Lx, nx)\n",
    "ly = np.linspace(0, Ly, ny)\n",
    "lz = np.linspace(0, Lz, nz)\n",
    "\n",
    "# parameters\n",
    "n0 = 487.8061\n",
    "qi = 5.1200e-04\n",
    "vA = 0.05"
   ]
  },
  {
   "cell_type": "code",
   "execution_count": null,
   "metadata": {},
   "outputs": [],
   "source": [
    "def reshape_data(data):\n",
    "    data = data.reshape(nx, ny, nz, order='F')\n",
    "    # fd = np.zeros((ny, nx, nz))\n",
    "    # for i in range(nz):\n",
    "        # fd[:, :, i] = data[:, :, i].T\n",
    "    return data\n",
    "\n",
    "def read_scalar(name):\n",
    "    os.chdir(indir)\n",
    "    return reshape_data(np.fromfile(name, np.float32))\n",
    "\n",
    "def read_vector(name):\n",
    "    os.chdir(indir)\n",
    "    fd = np.fromfile(name, np.float32).reshape(nx * ny * nz, 3, order='F')\n",
    "    x = reshape_data(fd[:, 0])\n",
    "    y = reshape_data(fd[:, 1])\n",
    "    z = reshape_data(fd[:, 2])\n",
    "    return x, y, z\n",
    "\n",
    "\n",
    "norm = 1\n",
    "_, s, _ = read_vector('B_t008.00.bsd')\n",
    "# s = read_scalar('Ne_t008.00.bsd')\n",
    "print(s.shape)\n",
    "s = s/norm"
   ]
  },
  {
   "cell_type": "code",
   "execution_count": null,
   "metadata": {},
   "outputs": [],
   "source": [
    "mlab.figure(size=(1000, 500), bgcolor=(1, 1, 1), fgcolor=(0, 0, 0))\n",
    "vm = mlab.pipeline.volume(mlab.pipeline.scalar_field(s), vmin=s.min(), vmax=s.max())\n",
    "cbar = mlab.colorbar(vm, orientation='vertical')\n",
    "mlab.axes(xlabel=r'$X[c/\\omega_{pi}]$', ylabel=r'$Y[c/\\omega_{pi}]$', zlabel=r'$Z[c/\\omega_{pi}]$',\n",
    "          ranges=[0, Lx, 0, Ly, 0, Lz], nb_labels=3, color=(0, 0, 0))\n",
    "mlab.title(r'By at $\\Omega_{ci}t = 8$', size=0.2)\n",
    "mlab.outline()\n",
    "\n",
    "# 创建透明度传递函数\n",
    "opacity_tf = PiecewiseFunction()\n",
    "\n",
    "# 设置透明度控制点\n",
    "opacity_tf.add_point(s.min(), 1.0)  # 完全不透明\n",
    "opacity_tf.add_point(-0.001, 0.1)  # 开始透明区间\n",
    "opacity_tf.add_point(0.001, 0.1)   # 结束透明区间\n",
    "opacity_tf.add_point(s.max(), 1.0)   # 完全不透明\n",
    "\n",
    "# 将透明度传递函数应用于 volume_property\n",
    "vm._volume_property.set_scalar_opacity(opacity_tf)\n",
    "\n",
    "# 重新渲染\n",
    "mlab.draw()\n",
    "mlab.show()"
   ]
  },
  {
   "cell_type": "code",
   "execution_count": null,
   "metadata": {},
   "outputs": [],
   "source": [
    "os.chdir(outidr)\n",
    "mlab.savefig('render.png')\n",
    "from IPython.display import Image\n",
    "Image(filename='render.png')"
   ]
  }
 ],
 "metadata": {
  "kernelspec": {
   "display_name": "Python 3 (ipykernel)",
   "language": "python",
   "name": "python3"
  },
  "language_info": {
   "codemirror_mode": {
    "name": "ipython",
    "version": 3
   },
   "file_extension": ".py",
   "mimetype": "text/x-python",
   "name": "python",
   "nbconvert_exporter": "python",
   "pygments_lexer": "ipython3",
   "version": "3.11.6"
  }
 },
 "nbformat": 4,
 "nbformat_minor": 4
}
